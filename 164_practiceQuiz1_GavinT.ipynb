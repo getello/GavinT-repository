{
  "nbformat": 4,
  "nbformat_minor": 0,
  "metadata": {
    "colab": {
      "provenance": [],
      "collapsed_sections": [],
      "authorship_tag": "ABX9TyN8ZlU7CNTQzvL6n9ITFvbd",
      "include_colab_link": true
    },
    "kernelspec": {
      "name": "python3",
      "display_name": "Python 3"
    },
    "language_info": {
      "name": "python"
    }
  },
  "cells": [
    {
      "cell_type": "markdown",
      "metadata": {
        "id": "view-in-github",
        "colab_type": "text"
      },
      "source": [
        "<a href=\"https://colab.research.google.com/github/getello/GavinT-repository/blob/main/164_practiceQuiz1_GavinT.ipynb\" target=\"_parent\"><img src=\"https://colab.research.google.com/assets/colab-badge.svg\" alt=\"Open In Colab\"/></a>"
      ]
    },
    {
      "cell_type": "code",
      "execution_count": null,
      "metadata": {
        "id": "eCPqC3pbP5Cq"
      },
      "outputs": [],
      "source": [
        "#Write a program that asks users for height and width of a rectangle (float data type) and calculates the perimeter and area of the said rectangle.\n",
        "#perimeter = 2* (width + length)\n",
        "#area = width * length\n",
        "#When you run the program something similar to the below is what the user sees:\n"
      ]
    },
    {
      "cell_type": "code",
      "source": [
        "\n",
        "width=float(input('What is the width of the rectangle:'))\n",
        "height=float(input('What is the height of the rectangle:'))\n",
        "\n",
        "perimeter= 2*(width+height)\n",
        "area= width*height\n",
        "\n",
        "print('The perimeter of the rectangle with a width', width, 'and a height of', height, 'is', perimeter, 'and the area is', area)\n"
      ],
      "metadata": {
        "colab": {
          "base_uri": "https://localhost:8080/"
        },
        "id": "Lyhmr87fQNRH",
        "outputId": "5c04289b-5a5b-4cae-f0bf-492671dd1c65"
      },
      "execution_count": 2,
      "outputs": [
        {
          "output_type": "stream",
          "name": "stdout",
          "text": [
            "What is the width of the rectangle:1.4\n",
            "What is the height of the rectangle:5.6\n",
            "The perimeter of the rectangle with a width 1.4 and a height of 5.6 is 14.0 and the area is 7.839999999999999\n"
          ]
        }
      ]
    },
    {
      "cell_type": "code",
      "source": [
        "#Write a program that receives height in inches and weight in pounds and calculates BMI.\n",
        " \n",
        "#BMI = (weight divided by  height-squared  ) *703\n",
        "#Hint: to calculate height-squared use math.pow or  **\n",
        "#example: 3**2 is 9 , math.pow(3,2) is 9\n"
      ],
      "metadata": {
        "id": "MjDn-dT1Z6un"
      },
      "execution_count": null,
      "outputs": []
    },
    {
      "cell_type": "code",
      "source": [
        "weight=float(input('Enter your weight in lbs:'))\n",
        "height=float(input('Enter your height in inches:'))\n",
        "\n",
        "bmi=weight/(height**2)*703\n",
        "\n",
        "print('The BMI of you with a weight of', weight, 'and a height of', height, 'is', bmi)\n"
      ],
      "metadata": {
        "colab": {
          "base_uri": "https://localhost:8080/"
        },
        "id": "MHt8nEImaF8z",
        "outputId": "9dffbef3-2789-4b1c-dcf1-67e386896b68"
      },
      "execution_count": 5,
      "outputs": [
        {
          "output_type": "stream",
          "name": "stdout",
          "text": [
            "Enter your weight in lbs:178\n",
            "Enter your height in inches:69\n",
            "The BMI of you with a weight of 178.0 and a height of 69.0 is 26.28313379542113\n"
          ]
        }
      ]
    }
  ]
}